{
 "cells": [
  {
   "cell_type": "markdown",
   "id": "0daecc33",
   "metadata": {},
   "source": [
    "# 📘 Treinamento - Predição de Evasão Estudantil"
   ]
  },
  {
   "cell_type": "code",
   "execution_count": 1,
   "id": "67b36a97",
   "metadata": {},
   "outputs": [
    {
     "name": "stdout",
     "output_type": "stream",
     "text": [
      "Acurácias em cada fold: [0.74152542 0.77966102 0.76977401 0.76977401 0.77652051]\n",
      "Média CV: 0.7674509944941226\n",
      "Acurácia treino: 1.00 | Acurácia teste: 0.77\n",
      "\n",
      "Classification Report:\n",
      "               precision    recall  f1-score   support\n",
      "\n",
      "  Desistente       0.83      0.75      0.79       284\n",
      "    Graduado       0.79      0.93      0.85       442\n",
      " Matriculado       0.54      0.35      0.43       159\n",
      "\n",
      "    accuracy                           0.77       885\n",
      "   macro avg       0.72      0.68      0.69       885\n",
      "weighted avg       0.76      0.77      0.76       885\n",
      "\n"
     ]
    },
    {
     "data": {
      "text/plain": [
       "['../model/modelo_treinado.pkl']"
      ]
     },
     "execution_count": 1,
     "metadata": {},
     "output_type": "execute_result"
    }
   ],
   "source": [
    "# Carregar bibliotecas e dados\n",
    "import pandas as pd\n",
    "import numpy as np\n",
    "import joblib\n",
    "from sklearn.model_selection import train_test_split, cross_val_score\n",
    "from sklearn.ensemble import RandomForestClassifier\n",
    "from sklearn.preprocessing import StandardScaler, OneHotEncoder\n",
    "from sklearn.compose import ColumnTransformer\n",
    "from sklearn.pipeline import Pipeline\n",
    "from sklearn.metrics import classification_report\n",
    "\n",
    "df = pd.read_excel(\"../StudentsPrepared.xlsx\")\n",
    "\n",
    "# Ajuste nome correto da variável alvo\n",
    "y = df['Target']\n",
    "X = df.drop('Target', axis=1)\n",
    "\n",
    "categorical_cols = X.select_dtypes(include=['object', 'category']).columns.tolist()\n",
    "numeric_cols = X.select_dtypes(include=['int64', 'float64']).columns.tolist()\n",
    "\n",
    "numeric_transformer = Pipeline(steps=[('scaler', StandardScaler())])\n",
    "categorical_transformer = Pipeline(steps=[('onehot', OneHotEncoder(handle_unknown='ignore'))])\n",
    "preprocessor = ColumnTransformer(transformers=[\n",
    "    ('num', numeric_transformer, numeric_cols),\n",
    "    ('cat', categorical_transformer, categorical_cols)\n",
    "])\n",
    "\n",
    "X_train, X_test, y_train, y_test = train_test_split(X, y, test_size=0.2, stratify=y, random_state=42)\n",
    "\n",
    "clf = Pipeline(steps=[\n",
    "    ('preprocessor', preprocessor),\n",
    "    ('classifier', RandomForestClassifier(random_state=42))\n",
    "])\n",
    "\n",
    "cv_scores = cross_val_score(clf, X_train, y_train, cv=5, scoring='accuracy')\n",
    "print(\"Acurácias em cada fold:\", cv_scores)\n",
    "print(\"Média CV:\", cv_scores.mean())\n",
    "\n",
    "clf.fit(X_train, y_train)\n",
    "train_acc = clf.score(X_train, y_train)\n",
    "test_acc = clf.score(X_test, y_test)\n",
    "print(f\"Acurácia treino: {train_acc:.2f} | Acurácia teste: {test_acc:.2f}\")\n",
    "\n",
    "print(\"\\nClassification Report:\\n\", classification_report(y_test, clf.predict(X_test)))\n",
    "\n",
    "# Salvar modelo\n",
    "joblib.dump(clf, \"../model/modelo_treinado.pkl\")"
   ]
  },
  {
   "cell_type": "code",
   "execution_count": 3,
   "id": "1c8231c9-4c0b-415b-ae9a-f7fd0f4d22e8",
   "metadata": {},
   "outputs": [
    {
     "ename": "NameError",
     "evalue": "name 'y_pred' is not defined",
     "output_type": "error",
     "traceback": [
      "\u001b[1;31m---------------------------------------------------------------------------\u001b[0m",
      "\u001b[1;31mNameError\u001b[0m                                 Traceback (most recent call last)",
      "Cell \u001b[1;32mIn[3], line 8\u001b[0m\n\u001b[0;32m      6\u001b[0m f\u001b[38;5;241m.\u001b[39mwrite(\u001b[38;5;124mf\u001b[39m\u001b[38;5;124m\"\u001b[39m\u001b[38;5;124mAcurácia teste: \u001b[39m\u001b[38;5;132;01m{\u001b[39;00mtest_acc\u001b[38;5;132;01m:\u001b[39;00m\u001b[38;5;124m.4f\u001b[39m\u001b[38;5;132;01m}\u001b[39;00m\u001b[38;5;130;01m\\n\u001b[39;00m\u001b[38;5;124m\"\u001b[39m)\n\u001b[0;32m      7\u001b[0m f\u001b[38;5;241m.\u001b[39mwrite(\u001b[38;5;124m\"\u001b[39m\u001b[38;5;130;01m\\n\u001b[39;00m\u001b[38;5;124mClassification Report:\u001b[39m\u001b[38;5;130;01m\\n\u001b[39;00m\u001b[38;5;124m\"\u001b[39m)\n\u001b[1;32m----> 8\u001b[0m f\u001b[38;5;241m.\u001b[39mwrite(classification_report(y_test, \u001b[43my_pred\u001b[49m))\n",
      "\u001b[1;31mNameError\u001b[0m: name 'y_pred' is not defined"
     ]
    }
   ],
   "source": [
    "# === 8. Salvar relatório de resultados ===\n",
    "with open(\"treinamento_resultado.txt\", \"w\") as f:\n",
    "    f.write(f\"Acurácias em cada fold: {cv_scores.tolist()}\\n\")\n",
    "    f.write(f\"Média CV: {cv_scores.mean():.4f}\\n\")\n",
    "    f.write(f\"Acurácia treino: {train_acc:.4f}\\n\")\n",
    "    f.write(f\"Acurácia teste: {test_acc:.4f}\\n\")\n",
    "    f.write(\"\\nClassification Report:\\n\")\n",
    "    f.write(classification_report(y_test, y_pred))\n"
   ]
  }
 ],
 "metadata": {
  "kernelspec": {
   "display_name": "Python 3 (ipykernel)",
   "language": "python",
   "name": "python3"
  },
  "language_info": {
   "codemirror_mode": {
    "name": "ipython",
    "version": 3
   },
   "file_extension": ".py",
   "mimetype": "text/x-python",
   "name": "python",
   "nbconvert_exporter": "python",
   "pygments_lexer": "ipython3",
   "version": "3.12.3"
  }
 },
 "nbformat": 4,
 "nbformat_minor": 5
}
